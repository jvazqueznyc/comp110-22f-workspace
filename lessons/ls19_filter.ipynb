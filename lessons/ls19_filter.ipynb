{
 "cells": [
  {
   "cell_type": "markdown",
   "metadata": {},
   "source": [
    "# Filtering Data Based on Criteria\n",
    "In this lesson, we will use a simple, small dataset of weather projections in Chapel Hill for Thursday. March 25th, through Saturyda, April 3rd, where each row is the projection for the next day in that timeframe.\n",
    "\n",
    "Our analysis goal is to find the average temepratures on days where it is unlikely (less than 30%) to rain.\n",
    "\n",
    "We will consider approaching this problem from a column-oriented perspective.\n",
    "\n",
    "First, let's consider our data set."
   ]
  },
  {
   "cell_type": "code",
   "execution_count": 104,
   "metadata": {},
   "outputs": [
    {
     "data": {
      "text/plain": [
       "{'high': [77, 84, 78, 79, 65, 67, 74, 61, 55, 61],\n",
       " 'low': [67, 51, 64, 45, 43, 53, 56, 37, 34, 42],\n",
       " 'rain': [0.3, 0.2, 0.4, 0.8, 0.0, 0.2, 0.4, 0.5, 0.1, 0.1]}"
      ]
     },
     "execution_count": 104,
     "metadata": {},
     "output_type": "execute_result"
    }
   ],
   "source": [
    "col_data: dict[str, list[float]] = {\n",
    "    \"high\": [77, 84, 78, 79, 65, 67, 74, 61, 55, 61],\n",
    "    \"low\": [67, 51, 64, 45, 43, 53, 56, 37, 34, 42],\n",
    "    \"rain\": [.3, .2, .4, .8, 0., .2, .4, .5, .1, .1]\n",
    "}\n",
    "\n",
    "col_data"
   ]
  },
  {
   "cell_type": "markdown",
   "metadata": {},
   "source": [
    "## Produce a \"Mask\" Based on Criteria\n",
    "\n",
    "Less than .3 is unlikely to rain."
   ]
  },
  {
   "cell_type": "code",
   "execution_count": 105,
   "metadata": {},
   "outputs": [
    {
     "data": {
      "text/plain": [
       "[False, True, False, False, True, True, False, False, True, True]"
      ]
     },
     "execution_count": 105,
     "metadata": {},
     "output_type": "execute_result"
    }
   ],
   "source": [
    "def less_than(col: list[float], threshold: float) -> list[bool]:\n",
    "    result: list[bool] = []  #This list of Booleans can be referred to as a 'mask'... The mask() method replaces the values of the rows where the condition evaluates to True.\n",
    "    for item in col:\n",
    "        result.append(item < threshold)\n",
    "        # The above line does the same as the following:\n",
    "        # if item < threshold:\n",
    "        #     result.append(True)\n",
    "        # else:\n",
    "        #     result.append(False)\n",
    "    return result\n",
    "\n",
    "# Example, testing call:\n",
    "no_rain_mask: list[bool] = less_than(col_data[\"rain\"], 0.3)\n",
    "no_rain_mask"
   ]
  },
  {
   "cell_type": "markdown",
   "metadata": {},
   "source": []
  },
  {
   "cell_type": "markdown",
   "metadata": {},
   "source": [
    "# Masked Function\n",
    "\n",
    "Takes in a column and a list of masks (bool values), returns only the values in the input column where the corresponding mask value is True.\n",
    "\n",
    "Masking as also known as boolean selection or boolean indexing. We are 'masking' values that are false in order to keep the values that are true."
   ]
  },
  {
   "cell_type": "code",
   "execution_count": 106,
   "metadata": {},
   "outputs": [
    {
     "data": {
      "text/plain": [
       "[84, 65, 67, 55, 61]"
      ]
     },
     "execution_count": 106,
     "metadata": {},
     "output_type": "execute_result"
    }
   ],
   "source": [
    "# To use this, you must have your masked list of bools already made.\n",
    "def masked(col: list[float], mask: list[bool]) -> list[float]:\n",
    "    result: list[float] = []\n",
    "    for i in range(len(mask)):\n",
    "        if mask[i] == True:\n",
    "            result.append(col[i])     \n",
    "    return result\n",
    "\n",
    "# Test\n",
    "highs_of_no_rain_days: list[float] = masked(col_data[\"high\"], no_rain_mask)\n",
    "highs_of_no_rain_days\n"
   ]
  },
  {
   "cell_type": "markdown",
   "metadata": {},
   "source": [
    "## Compute the Average"
   ]
  },
  {
   "cell_type": "code",
   "execution_count": 107,
   "metadata": {},
   "outputs": [
    {
     "data": {
      "text/plain": [
       "66.4"
      ]
     },
     "execution_count": 107,
     "metadata": {},
     "output_type": "execute_result"
    }
   ],
   "source": [
    "def mean(col: list[float]) -> float:\n",
    "    return sum(col) / len(col)\n",
    "\n",
    "mean(highs_of_no_rain_days)\n",
    "\n",
    "# OR\n",
    "\n",
    "# computer the average\n",
    "\n",
    "# def mean_avg(list_of_floats: list[float]) -> float:\n",
    "#     total_of_floats: float = 0\n",
    "#     for element in list_of_floats:\n",
    "#         total_of_floats += element\n",
    "#     mean_calculation = total_of_floats / len(list_of_floats)\n",
    "#     return mean_calculation\n",
    "\n",
    "# avg_temp_no_rain_days = mean_avg(highs_of_no_rain_days)\n",
    "# avg_temp_no_rain_days\n"
   ]
  },
  {
   "cell_type": "code",
   "execution_count": 108,
   "metadata": {},
   "outputs": [
    {
     "name": "stdout",
     "output_type": "stream",
     "text": [
      "51.0\n"
     ]
    }
   ],
   "source": [
    "def not_mask(mask: list[bool]) -> list[bool]:\n",
    "  result: list[bool] = []\n",
    "  for item in mask:\n",
    "    result.append(not item)\n",
    "  return result\n",
    "\n",
    "mask_a: list[bool] = less_than(col_data[\"high\"], 80)\n",
    "mask_b: list[bool] = not_mask(mask_a)\n",
    "\n",
    "values: list[float] = masked(col_data[\"low\"], mask_b)\n",
    "print(mean(values))"
   ]
  },
  {
   "cell_type": "markdown",
   "metadata": {},
   "source": [
    "## With these helper functions, we can perform many anaysis!"
   ]
  },
  {
   "cell_type": "code",
   "execution_count": 109,
   "metadata": {},
   "outputs": [
    {
     "name": "stdout",
     "output_type": "stream",
     "text": [
      "[False, False, False, True, True, False, False, True, True, True]\n",
      "[0.8, 0.0, 0.5, 0.1, 0.1]\n",
      "0.30000000000000004\n"
     ]
    }
   ],
   "source": [
    "# What is the average likliehood of precipitation when the day's low is less than 50 degrees?\n",
    "\n",
    "# Produce mask.\n",
    "\n",
    "mask_day_low_less_50: list[bool] = less_than(col_data[\"low\"], 50)\n",
    "print(mask_day_low_less_50)\n",
    "\n",
    "list_rain_on_days_less_50: list[float] = masked(col_data[\"rain\"], mask_day_low_less_50)\n",
    "print(list_rain_on_days_less_50)\n",
    "\n",
    "mean_rain_days_less_50: float = mean(list_rain_on_days_less_50)\n",
    "print(mean_rain_days_less_50)"
   ]
  }
 ],
 "metadata": {
  "kernelspec": {
   "display_name": "Python 3.10.6 64-bit",
   "language": "python",
   "name": "python3"
  },
  "language_info": {
   "codemirror_mode": {
    "name": "ipython",
    "version": 3
   },
   "file_extension": ".py",
   "mimetype": "text/x-python",
   "name": "python",
   "nbconvert_exporter": "python",
   "pygments_lexer": "ipython3",
   "version": "3.10.6"
  },
  "orig_nbformat": 4,
  "vscode": {
   "interpreter": {
    "hash": "26de051ba29f2982a8de78e945f0abaf191376122a1563185a90213a26c5da77"
   }
  }
 },
 "nbformat": 4,
 "nbformat_minor": 2
}
